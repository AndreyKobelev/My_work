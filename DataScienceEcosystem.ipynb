{
 "cells": [
  {
   "cell_type": "markdown",
   "id": "6acd1f09-54f6-4492-aec8-3c88c3e160c1",
   "metadata": {},
   "source": [
    "# Data Science Tools and Ecosystem"
   ]
  },
  {
   "cell_type": "markdown",
   "id": "358c6dcc-0df6-4954-aed0-f2ac00ce83ab",
   "metadata": {},
   "source": [
    "In this notebook, Data Science Tools and Ecosystem are summarized."
   ]
  },
  {
   "cell_type": "markdown",
   "id": "cdbbb752-8555-471e-916b-a6c63f19a9b8",
   "metadata": {},
   "source": [
    "**Objectives**\n",
    "* List popular languages that Data Scientists use.\n",
    "* List commonly used libraries used by Data Scientists.\n",
    "* Data Science tools."
   ]
  },
  {
   "cell_type": "markdown",
   "id": "c4112b0e-032e-4d42-b59f-b974db9a904a",
   "metadata": {},
   "source": [
    "Some of the popular languages that Data Scientists use are:\n",
    "1. Python\n",
    "2. SQL\n",
    "3. Scala\n",
    "4. Ruby\n",
    "5. R.\n",
    "6. Java\n",
    "7. Julia."
   ]
  },
  {
   "cell_type": "markdown",
   "id": "698a06e0-ae5a-4a8b-8954-d020ba36ba87",
   "metadata": {},
   "source": [
    "Some of the commonly used libraries used by Data Scientists include:\n",
    "1. TensorFlow\n",
    "2. NumPy\n",
    "3. SciPy\n",
    "4. Pandas\n",
    "5. Matplotlib\n",
    "6. SciKit-Learn\n",
    "7. PyTorch.\n",
    "8. BeautifulSoup\n"
   ]
  },
  {
   "cell_type": "markdown",
   "id": "b1380a93-5126-4a65-848f-c923a6f5a11b",
   "metadata": {},
   "source": [
    "# Data Science Tools\n",
    "<table style=\"width:100%\">\n",
    "    <tr>\n",
    "        <td> Apache Spark </td>    \n",
    "    </tr>\n",
    "    <tr>\n",
    "        <td> VSC </td>\n",
    "    </tr>\n",
    "    <tr>\n",
    "        <td> Visual Studio </td>\n",
    "    </tr>\n",
    "</table>"
   ]
  },
  {
   "cell_type": "markdown",
   "id": "95339750-0f87-4e5b-9403-6a6e26b99441",
   "metadata": {},
   "source": [
    "### Below are a few examples of evaluating arithmetic expressions in Python"
   ]
  },
  {
   "cell_type": "code",
   "execution_count": 4,
   "id": "a52ed452-57aa-4efe-8617-fd6e9a054aa8",
   "metadata": {},
   "outputs": [
    {
     "data": {
      "text/plain": [
       "17"
      ]
     },
     "execution_count": 4,
     "metadata": {},
     "output_type": "execute_result"
    }
   ],
   "source": [
    "# This a simple arithmetic expression to mutiply then add integers\n",
    "code = compile(\"(3*4)+5\", \"<string>\", \"eval\")\n",
    "eval(code)"
   ]
  },
  {
   "cell_type": "code",
   "execution_count": 5,
   "id": "e07927bf-a707-4fbf-bb9d-d3e4a9948e66",
   "metadata": {},
   "outputs": [
    {
     "data": {
      "text/plain": [
       "33.333333333333336"
      ]
     },
     "execution_count": 5,
     "metadata": {},
     "output_type": "execute_result"
    }
   ],
   "source": [
    "#  This will convert 200 minutes to hours by diving by 60\n",
    "code = compile(\"200/6\", \"<string>\", \"eval\")\n",
    "eval(code)"
   ]
  },
  {
   "cell_type": "markdown",
   "id": "8910175d-fc40-4839-8e71-d4428479691c",
   "metadata": {},
   "source": [
    "## Author\n",
    "Andrey Kobelev"
   ]
  },
  {
   "cell_type": "code",
   "execution_count": null,
   "id": "1e70527b-6b08-4835-b504-de659aee999c",
   "metadata": {},
   "outputs": [],
   "source": []
  }
 ],
 "metadata": {
  "kernelspec": {
   "display_name": "Python 3 (ipykernel)",
   "language": "python",
   "name": "python3"
  },
  "language_info": {
   "codemirror_mode": {
    "name": "ipython",
    "version": 3
   },
   "file_extension": ".py",
   "mimetype": "text/x-python",
   "name": "python",
   "nbconvert_exporter": "python",
   "pygments_lexer": "ipython3",
   "version": "3.11.9"
  }
 },
 "nbformat": 4,
 "nbformat_minor": 5
}
